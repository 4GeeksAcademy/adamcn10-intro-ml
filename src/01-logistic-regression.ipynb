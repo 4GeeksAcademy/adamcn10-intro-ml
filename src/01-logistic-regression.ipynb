{
 "cells": [
  {
   "cell_type": "markdown",
   "id": "6ccf9cb5",
   "metadata": {},
   "source": [
    "# Logistic Regression"
   ]
  },
  {
   "cell_type": "markdown",
   "id": "81258484",
   "metadata": {},
   "source": []
  }
 ],
 "metadata": {
  "language_info": {
   "name": "python"
  }
 },
 "nbformat": 4,
 "nbformat_minor": 5
}
